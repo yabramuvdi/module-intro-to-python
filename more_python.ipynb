{
 "cells": [
  {
   "cell_type": "markdown",
   "metadata": {
    "ein.tags": "worksheet-0",
    "slideshow": {
     "slide_type": "-"
    }
   },
   "source": [
    "# More advanced concepts in Python!"
   ]
  },
  {
   "cell_type": "markdown",
   "metadata": {
    "ein.tags": "worksheet-0",
    "slideshow": {
     "slide_type": "-"
    }
   },
   "source": [
    "# Behind the scenes of value assignement\n",
    "\n",
    "This is a deep concept, that relates to how python uses memory under-the-hood, but a working knowledge of how it works is critical to avoid creating an unintentional mess!\n",
    "\n",
    "The best way to understand what this is about is with the following example. What do you think will happen to objects a and b after these operations? "
   ]
  },
  {
   "cell_type": "code",
   "execution_count": null,
   "metadata": {
    "autoscroll": false,
    "ein.hycell": false,
    "ein.tags": "worksheet-0",
    "slideshow": {
     "slide_type": "-"
    }
   },
   "outputs": [],
   "source": [
    "a = [1,2,5]\n",
    "b = a\n",
    "b[2] = 10"
   ]
  },
  {
   "cell_type": "markdown",
   "metadata": {
    "ein.tags": "worksheet-0",
    "slideshow": {
     "slide_type": "-"
    }
   },
   "source": [
    "## Copy vs assignement\n",
    "\n",
    "What happens is that really a and b point to the same place in the memory and share the same data. \n",
    "\n",
    "The way to create an object that will *copy* the data in a but not *share* the data with a is to do a ... copy! \n",
    "\n",
    "```python\n",
    "b = a.copy()\n",
    "```\n",
    "\n",
    "Things become a little trickier (although it does make perfect sense!) when you deal with lists of lists; for this reason there is also the deepcopy. Try at home what happens with the following example"
   ]
  },
  {
   "cell_type": "code",
   "execution_count": 2,
   "metadata": {
    "autoscroll": false,
    "ein.hycell": false,
    "ein.tags": "worksheet-0",
    "slideshow": {
     "slide_type": "-"
    }
   },
   "outputs": [],
   "source": [
    "a = [1,[2,3],5,\"om\"] \n",
    "b = a.copy()\n",
    "b[1].append(100)\n",
    "## Print a, b and be surprised!"
   ]
  },
  {
   "cell_type": "code",
   "execution_count": 3,
   "metadata": {
    "autoscroll": false,
    "ein.hycell": false,
    "ein.tags": "worksheet-0",
    "slideshow": {
     "slide_type": "-"
    }
   },
   "outputs": [
    {
     "name": "stdout",
     "output_type": "stream",
     "text": [
      "[1, [2, 3], 5, 'om']\n",
      "[1, [2, 3, 100], 5, 'om']\n"
     ]
    }
   ],
   "source": [
    "## Try now \n",
    "from copy import deepcopy\n",
    "b = deepcopy(a)\n",
    "b[1].pop()\n",
    "print(b)\n",
    "print(a)"
   ]
  },
  {
   "cell_type": "markdown",
   "metadata": {
    "ein.tags": "worksheet-0",
    "slideshow": {
     "slide_type": "-"
    }
   },
   "source": [
    "# Exceptions\n",
    "\n",
    "If we recall the Zen of Python, 2 of its 19 lines are devoted to errors:\n",
    "\n",
    "_Errors should never pass silently._\n",
    "_Unless explicitly silenced._\n",
    "\n",
    "A program that doesn't work as expected, if there is no error raised, is very hard to debug! The problem could be anywhere. \n",
    "\n",
    "Errors, on the other hand, tell us _where_ things went wrong and what we need to fix. If every time something goes wrong we have an informative error, then debuging is a breeze!"
   ]
  },
  {
   "cell_type": "code",
   "execution_count": 4,
   "metadata": {
    "autoscroll": false,
    "ein.hycell": false,
    "ein.tags": "worksheet-0",
    "slideshow": {
     "slide_type": "-"
    }
   },
   "outputs": [
    {
     "data": {
      "text/plain": [
       "Exception"
      ]
     },
     "execution_count": 4,
     "metadata": {},
     "output_type": "execute_result"
    }
   ],
   "source": [
    "# Errors in Python are called Exceptions. \n",
    "# Exceptions are created as follows:\n",
    "\n",
    "e = Exception()\n",
    "type(e)"
   ]
  },
  {
   "cell_type": "code",
   "execution_count": 5,
   "metadata": {
    "autoscroll": false,
    "ein.hycell": false,
    "ein.tags": "worksheet-0",
    "slideshow": {
     "slide_type": "-"
    }
   },
   "outputs": [
    {
     "ename": "Exception",
     "evalue": "Oops!",
     "output_type": "error",
     "traceback": [
      "\u001b[0;31m---------------------------------------------------------------------------\u001b[0m",
      "\u001b[0;31mException\u001b[0m                                 Traceback (most recent call last)",
      "\u001b[0;32m<ipython-input-5-fc7196e2e87e>\u001b[0m in \u001b[0;36m<module>\u001b[0;34m\u001b[0m\n\u001b[1;32m      3\u001b[0m \u001b[0;31m# Exceptions are raised with the \"raise\" keyword:\u001b[0m\u001b[0;34m\u001b[0m\u001b[0;34m\u001b[0m\u001b[0;34m\u001b[0m\u001b[0m\n\u001b[1;32m      4\u001b[0m \u001b[0;34m\u001b[0m\u001b[0m\n\u001b[0;32m----> 5\u001b[0;31m \u001b[0;32mraise\u001b[0m \u001b[0mException\u001b[0m\u001b[0;34m(\u001b[0m\u001b[0;34m'Oops!'\u001b[0m\u001b[0;34m)\u001b[0m\u001b[0;34m\u001b[0m\u001b[0;34m\u001b[0m\u001b[0m\n\u001b[0m",
      "\u001b[0;31mException\u001b[0m: Oops!"
     ]
    }
   ],
   "source": [
    "# There is no point in creating an exception with \"raising\"\n",
    "# the exception. \n",
    "# Exceptions are raised with the \"raise\" keyword: \n",
    "\n",
    "raise Exception('Oops!')"
   ]
  },
  {
   "cell_type": "code",
   "execution_count": 6,
   "metadata": {
    "autoscroll": false,
    "ein.hycell": false,
    "ein.tags": "worksheet-0",
    "slideshow": {
     "slide_type": "-"
    }
   },
   "outputs": [
    {
     "ename": "Exception",
     "evalue": "The person must have an age attribute! Given: notaperson",
     "output_type": "error",
     "traceback": [
      "\u001b[0;31m---------------------------------------------------------------------------\u001b[0m",
      "\u001b[0;31mException\u001b[0m                                 Traceback (most recent call last)",
      "\u001b[0;32m<ipython-input-6-57457b56214e>\u001b[0m in \u001b[0;36m<module>\u001b[0;34m\u001b[0m\n\u001b[1;32m     10\u001b[0m     \u001b[0;32mreturn\u001b[0m \u001b[0mperson\u001b[0m\u001b[0;34m.\u001b[0m\u001b[0mage\u001b[0m \u001b[0;34m+\u001b[0m \u001b[0;36m1\u001b[0m\u001b[0;34m\u001b[0m\u001b[0;34m\u001b[0m\u001b[0m\n\u001b[1;32m     11\u001b[0m \u001b[0;34m\u001b[0m\u001b[0m\n\u001b[0;32m---> 12\u001b[0;31m \u001b[0mage_a_person\u001b[0m\u001b[0;34m(\u001b[0m\u001b[0;34m'notaperson'\u001b[0m\u001b[0;34m)\u001b[0m\u001b[0;34m\u001b[0m\u001b[0;34m\u001b[0m\u001b[0m\n\u001b[0m",
      "\u001b[0;32m<ipython-input-6-57457b56214e>\u001b[0m in \u001b[0;36mage_a_person\u001b[0;34m(person)\u001b[0m\n\u001b[1;32m      7\u001b[0m \u001b[0;32mdef\u001b[0m \u001b[0mage_a_person\u001b[0m\u001b[0;34m(\u001b[0m\u001b[0mperson\u001b[0m\u001b[0;34m)\u001b[0m\u001b[0;34m:\u001b[0m\u001b[0;34m\u001b[0m\u001b[0;34m\u001b[0m\u001b[0m\n\u001b[1;32m      8\u001b[0m     \u001b[0;32mif\u001b[0m \u001b[0;32mnot\u001b[0m \u001b[0mhasattr\u001b[0m\u001b[0;34m(\u001b[0m\u001b[0mperson\u001b[0m\u001b[0;34m,\u001b[0m \u001b[0;34m'age'\u001b[0m\u001b[0;34m)\u001b[0m\u001b[0;34m:\u001b[0m\u001b[0;34m\u001b[0m\u001b[0;34m\u001b[0m\u001b[0m\n\u001b[0;32m----> 9\u001b[0;31m         \u001b[0;32mraise\u001b[0m \u001b[0mException\u001b[0m\u001b[0;34m(\u001b[0m\u001b[0;34mf'The person must have an age attribute! Given: {person}'\u001b[0m\u001b[0;34m)\u001b[0m\u001b[0;34m\u001b[0m\u001b[0;34m\u001b[0m\u001b[0m\n\u001b[0m\u001b[1;32m     10\u001b[0m     \u001b[0;32mreturn\u001b[0m \u001b[0mperson\u001b[0m\u001b[0;34m.\u001b[0m\u001b[0mage\u001b[0m \u001b[0;34m+\u001b[0m \u001b[0;36m1\u001b[0m\u001b[0;34m\u001b[0m\u001b[0;34m\u001b[0m\u001b[0m\n\u001b[1;32m     11\u001b[0m \u001b[0;34m\u001b[0m\u001b[0m\n",
      "\u001b[0;31mException\u001b[0m: The person must have an age attribute! Given: notaperson"
     ]
    }
   ],
   "source": [
    "# Every \"part\" of your program, for example each function, must be in charge\n",
    "# of things \"going as expected\" inside its body. If something goes wrong, it should\n",
    "# tell us what happened! \n",
    "\n",
    "# One way to do this is to check for possible problems before they occur: \n",
    "\n",
    "def age_a_person(person):\n",
    "    if not hasattr(person, 'age'):\n",
    "        raise Exception(f'The person must have an age attribute! Given: {person}')\n",
    "    return person.age + 1\n",
    "\n",
    "age_a_person('notaperson')"
   ]
  },
  {
   "cell_type": "code",
   "execution_count": null,
   "metadata": {
    "autoscroll": false,
    "ein.hycell": false,
    "ein.tags": "worksheet-0",
    "slideshow": {
     "slide_type": "-"
    }
   },
   "outputs": [],
   "source": [
    "# However, Python encourages a pattern referred to as \"EAFP\":\n",
    "# Easier to Ask Forgiveness then Permission \n",
    "# This style implies that one should first try, and catch any expected\n",
    "# errors that occur, handling them then. \n",
    "\n",
    "# So how does one catch an error?\n",
    "\n",
    "def joiner(a,b):\n",
    "    try:\n",
    "        return person.age + 1\n",
    "    except AttributeError as e:\n",
    "        raise Exception(f'The person must have an age attribute! Given: {person}') from e\n",
    "\n",
    "age_a_person('notaperson')"
   ]
  },
  {
   "cell_type": "markdown",
   "metadata": {
    "ein.tags": "worksheet-0",
    "slideshow": {
     "slide_type": "slide"
    }
   },
   "source": [
    "# Python and Object Oriented Programming (OOP)\n",
    "\n",
    "\n",
    "When people begin programming, it's natural to think procedurally, to tell the computer what to do:\n",
    "\n",
    "1. Do one thing\n",
    "2. Do the next thing\n",
    "3. Do the third thing\n",
    "\n",
    "This works for simple applications, but it does not scale.\n",
    "\n",
    "It requires us to understand, in our heads, every step the computer should do.\n",
    "\n",
    "To do things more complicated than we can keep in our heads at once, we need to break things down into component parts. Object Oriented Programming is a design pattern to do just that. \n",
    "\n",
    "## Understanding State\n",
    "\n",
    "To understand object-oriented programming, it's important first to understand the term **state**.\n",
    "\n",
    "You can think of state as \"state of the world.\" \n",
    "\n",
    "Consider a data transformation pipeline. Your state consists of the data itself. At any given time, your data might be in any number of states between \"fresh and useless\" and \"just-the-way-you-want-it.\" If your data comes in separate bits, each bit must be in the right state before it is combined with other bits, which then create new state. \n",
    "\n",
    "How do we keep track of all this state, when it becomes to complex to do procedurally? \n",
    "\n",
    "## Objects\n",
    "\n",
    "Object oriented programming seeks to split the state of the world into individual \"objects,\" which are both responsible for keeping track of their own state, and also responsible for knowing how to change it.\n",
    "\n",
    "O-O reflects nature:\n",
    "\n",
    "Consider the forest, with all its animals. No one individual keeps track of each fox in the forest: how much fur they have, how much they have eaten, how thirsty they are, etc.\n",
    "\n",
    "Each fox is in charge of itself. Nobody can put food in the foxes belly.\n",
    "\n",
    "The other feature of the foxes of the forest: they are all alike in their technical inner workings (they have the same type of stomach, same type of mouth). But they might be in a different state at any given moment (one might be hungry, one might be full).\n",
    "\n",
    "In O-O programming, we reflect this pattern via \"classes\" and \"instances\". \"Fox\" is a class. Each fox in the forest, is an \"instance\" of the \"Fox\" class.\n",
    "\n",
    "## Polymorphism\n",
    "\n",
    "Object oriented programming becomes really powerful via polymorphism.\n",
    "\n",
    "Again, consider all the animals in the forest. There are many different kind of animals! But say I want to go through the forest and give them all water.\n",
    "\n",
    "Maybe I don't need to know the details of how their stomachs work and how the water goes from their mouths to the rest of their bodies. I just need to give water over to them, and let them take care of the rest.\n",
    "\n",
    "This is single-dispatch polymorphism!\n",
    "\n",
    "## Methods\n",
    "\n",
    "Again, in O-O programming, ojects are both responsible for keeping track of their own state, and also responsible for knowing how to change it.\n",
    "\n",
    "\"Changing state,\" in all the programming we've seen, is done via functions.\n",
    "\n",
    "In O-O programming, we have special functions called \"methods\".\n",
    "\n",
    "Methods are functions that are defined in a class and \"attached\" to each instance of that class.\n",
    "\n",
    "Methods will change or interact with the state of the instance in some way."
   ]
  },
  {
   "cell_type": "code",
   "execution_count": 7,
   "metadata": {
    "autoscroll": false,
    "ein.hycell": false,
    "ein.tags": "worksheet-0",
    "slideshow": {
     "slide_type": "-"
    }
   },
   "outputs": [],
   "source": [
    "## Example of class: \n",
    "\n",
    "# How do we create a class? We \"construct\" it.\n",
    "# How do we construct a class? With a \"constructor\" method!\n",
    "# In python, the constructor method is called \"__init__\":\n",
    "\n",
    "class Animal():\n",
    "    def __init__(self, location):\n",
    "        # location is a tuple: (int, int)\n",
    "        self.location = location\n",
    "        self.water = 0\n",
    "    \n",
    "    def give_water(self, water): \n",
    "        self.water += water\n",
    "\n",
    "    def is_thirsty(self):\n",
    "        return self.water < 1        \n",
    "\n",
    "    def distance(self, loc):\n",
    "        x,y = self.location\n",
    "        xa,ya = loc\n",
    "        return (x - xa)**2 + (y - ya)**2"
   ]
  },
  {
   "cell_type": "code",
   "execution_count": 8,
   "metadata": {
    "autoscroll": false,
    "ein.hycell": false,
    "ein.tags": "worksheet-0",
    "slideshow": {
     "slide_type": "-"
    }
   },
   "outputs": [],
   "source": [
    "# Instatiating the class\n",
    "\n",
    "animal = Animal((10, 50))"
   ]
  },
  {
   "cell_type": "code",
   "execution_count": 9,
   "metadata": {
    "autoscroll": false,
    "ein.hycell": false,
    "ein.tags": "worksheet-0",
    "slideshow": {
     "slide_type": "-"
    }
   },
   "outputs": [
    {
     "data": {
      "text/plain": [
       "True"
      ]
     },
     "execution_count": 9,
     "metadata": {},
     "output_type": "execute_result"
    }
   ],
   "source": [
    "# See the methods at work! \n",
    "\n",
    "animal.is_thirsty()\n",
    "\n",
    "# Give it water! See if it's satiated!"
   ]
  },
  {
   "cell_type": "code",
   "execution_count": 11,
   "metadata": {},
   "outputs": [
    {
     "data": {
      "text/plain": [
       "(10, 50)"
      ]
     },
     "execution_count": 11,
     "metadata": {},
     "output_type": "execute_result"
    }
   ],
   "source": [
    "animal.location"
   ]
  },
  {
   "cell_type": "code",
   "execution_count": 89,
   "metadata": {
    "autoscroll": false,
    "ein.hycell": false,
    "ein.tags": "worksheet-0",
    "slideshow": {
     "slide_type": "-"
    }
   },
   "outputs": [],
   "source": [
    "import random\n",
    "\n",
    "# Example of inheritance\n",
    "class Fox(Animal):\n",
    "    def __init__(self, location, slyness):\n",
    "        # slyness is a float between [0., 1.]\n",
    "        super().__init__(location)\n",
    "        self.slyness = slyness\n",
    "        \n",
    "    def is_thirsty(self):\n",
    "        # Sly foxes lie!\n",
    "        if self.slyness > random.random():\n",
    "            return False\n",
    "        return self.water < 1\n",
    "\n",
    "\n",
    "# Try creating a fox\n",
    "fox = Fox((50, 100), 0.2)"
   ]
  },
  {
   "cell_type": "code",
   "execution_count": 138,
   "metadata": {},
   "outputs": [
    {
     "name": "stdout",
     "output_type": "stream",
     "text": [
      "0\n"
     ]
    },
    {
     "data": {
      "text/plain": [
       "True"
      ]
     },
     "execution_count": 138,
     "metadata": {},
     "output_type": "execute_result"
    }
   ],
   "source": [
    "print(fox.water)\n",
    "fox.is_thirsty()"
   ]
  },
  {
   "cell_type": "markdown",
   "metadata": {
    "ein.tags": "worksheet-0",
    "slideshow": {
     "slide_type": "-"
    }
   },
   "source": [
    "## Models\n",
    "\n",
    "In data science, our models are very naturally modelled as \"objects.\"\n",
    "\n",
    "There are many different types of models. And in a given program, you might have both: many\"classes\" of models, and many \"instances\" of each model class.\n",
    "\n",
    "For example: you might be testing 3 different classifiers, and several different \"versions\" of each classifier, with different hyperparameters.\n",
    "\n",
    "But for each model, you want to do the same thing:\n",
    "\n",
    "1. Create it\n",
    "2. Train it\n",
    "3. Test it\n",
    "4. (eventually) Use it\n",
    "\n",
    "## Polymorphism in Models\n",
    "\n",
    "Therefore, we can expect that each model class might have the same methods. For example, a \"train\" method, where we give it our data (assuming each model should operate on the same data, of course!).\n"
   ]
  },
  {
   "cell_type": "code",
   "execution_count": null,
   "metadata": {
    "autoscroll": false,
    "ein.hycell": false,
    "ein.tags": "worksheet-0",
    "slideshow": {
     "slide_type": "-"
    }
   },
   "outputs": [],
   "source": [
    "# Challenge: \n",
    "\n",
    "# Create a class called \"ForgetfulClassifier\". \n",
    "\n",
    "# This classifier should have two methods: fit, predict\n",
    "\n",
    "# The \"fit\" method should accept arguments:  x,y (both lists of numbers)\n",
    "# The \"predict\" method should accept arguments: x (a single number)\n",
    "\n",
    "# This classifier is getting very old. For any x value it is expected to predict, it simply guesses the last Y value that it has seen (the last value in the list, y, passed to \"fit\").\n",
    "\n",
    "# BONUS: Make the classifier throw an informative error if you try to call \"predict\" before \"fit\"\n",
    "\n",
    "\n",
    "class ForgetfulClassifier():\n",
    "    # Your code here\n",
    "    def __init__(self):\n",
    "        \n",
    "    def fit(self, x , y):\n",
    "    \n",
    "    def predict(self, x):\n",
    "        self.fit()\n",
    "    pass\n",
    "\n",
    "\n",
    "clf = ForgetfulClassifier()\n",
    "\n",
    "clf.fit([1,2,3,4,5], [5,6,7,8,9])\n",
    "\n",
    "assert(clf.predict(10) == 9)\n",
    "assert(clf.predict(5000) == 9)"
   ]
  },
  {
   "cell_type": "markdown",
   "metadata": {
    "ein.tags": "worksheet-0",
    "slideshow": {
     "slide_type": "-"
    }
   },
   "source": [
    "## Modules and imports\n",
    "\n",
    "*Modules* are python files, recognised in the computer as filename.py\n",
    "\n",
    "Data and methods (functions) defined in the module can become part of Python's *namespace* by using *import*\n",
    "\n",
    "To appreciate what the name space contains lets experiment with the following"
   ]
  },
  {
   "cell_type": "code",
   "execution_count": null,
   "metadata": {
    "autoscroll": false,
    "ein.hycell": false,
    "ein.tags": "worksheet-0",
    "slideshow": {
     "slide_type": "-"
    }
   },
   "outputs": [],
   "source": [
    "x = sin(5)"
   ]
  },
  {
   "cell_type": "code",
   "execution_count": null,
   "metadata": {
    "autoscroll": false,
    "ein.hycell": false,
    "ein.tags": "worksheet-0",
    "slideshow": {
     "slide_type": "-"
    }
   },
   "outputs": [],
   "source": [
    "from math import sin\n",
    "x = sin(5)\n",
    "print(x)"
   ]
  },
  {
   "cell_type": "code",
   "execution_count": null,
   "metadata": {
    "autoscroll": false,
    "ein.hycell": false,
    "ein.tags": "worksheet-0",
    "slideshow": {
     "slide_type": "-"
    }
   },
   "outputs": [],
   "source": [
    "sin = 3\n",
    "print(sin(3))"
   ]
  },
  {
   "cell_type": "markdown",
   "metadata": {
    "ein.tags": "worksheet-0",
    "slideshow": {
     "slide_type": "-"
    }
   },
   "source": [
    "## Typical import structures\n",
    "\n",
    "```python\n",
    "from math import sin # imports a single function\n",
    "\n",
    "from math import sin as sinus # nickname, this is useful when the function imported has long and complicated name\n",
    "\n",
    "\n",
    "import math # this imports the module in the name space, methods can then be accessed e.g.\n",
    "math.sin(3)\n",
    "\n",
    "from math import * #imports all methods in the namespace, not recommended!\n",
    "\n",
    "```"
   ]
  },
  {
   "cell_type": "code",
   "execution_count": null,
   "metadata": {
    "autoscroll": false,
    "ein.hycell": false,
    "ein.tags": "worksheet-0",
    "slideshow": {
     "slide_type": "-"
    }
   },
   "outputs": [],
   "source": [
    "# Another import example: importing my own functions\n",
    "\n",
    "from omsuselessfunctions import themostuselessfunctionever as f1\n",
    "\n",
    "f1()\n"
   ]
  },
  {
   "cell_type": "markdown",
   "metadata": {
    "ein.tags": "worksheet-0",
    "slideshow": {
     "slide_type": "-"
    }
   },
   "source": [
    "## More advanced concepts: default values and variable number of arguments in functions\n",
    "\n",
    "In Python we get to assign default values to inputs of functions. For example \n",
    "\n",
    "```python\n",
    "def f(a=1, b=2):\n",
    "    return a+b\n",
    "\n",
    "# This can be validly be called in the following ways (guess the answers!)\n",
    "\n",
    "f()\n",
    "f(10)\n",
    "f(b=4)\n",
    "f(10,4)\n",
    "f(a=10,b=4)\n",
    "f(b=4,a=10)\n",
    "\n",
    "# but NOT like this!!!\n",
    "f(a=10,4)\n",
    "```"
   ]
  },
  {
   "cell_type": "markdown",
   "metadata": {
    "ein.tags": "worksheet-0",
    "slideshow": {
     "slide_type": "-"
    }
   },
   "source": [
    "## Variable number of arguments\n",
    "\n",
    "There are instances in intermediate programming with Python that we wish a function to be able to handle an a priori unspecified number of arguments\n",
    "\n",
    "An example: I want to write a function that returns the maximum of a set of numbers, that will be passed on as arguments, and will work regardless of how many numbers are passed on. \n",
    "\n",
    "I would also like the function to default to Inf if no number is passed on. "
   ]
  },
  {
   "cell_type": "code",
   "execution_count": null,
   "metadata": {
    "autoscroll": false,
    "ein.hycell": false,
    "ein.tags": "worksheet-0",
    "slideshow": {
     "slide_type": "-"
    }
   },
   "outputs": [],
   "source": [
    "# Function for maximum of a variable number of inputs\n",
    "\n",
    "def maxmany(x=float(\"inf\"),*extra): # this specification makes \n",
    "    #                               extra a tuple!!\n",
    "    runmax = x\n",
    "    for y in extra: \n",
    "        if runmax<y:\n",
    "            runmax = y\n",
    "    return(runmax)\n",
    "\n",
    "# What is going on behind the scenes is that * unpacks a tuple!!"
   ]
  },
  {
   "cell_type": "markdown",
   "metadata": {
    "ein.tags": "worksheet-0",
    "slideshow": {
     "slide_type": "-"
    }
   },
   "source": [
    "## Passing on dictionaries as inputs\n",
    "\n",
    "The previous idea can be taken a step further by passing on dictionaries as inputs. \n",
    "\n",
    "Dictionaries are unpacked by ** \n",
    "\n",
    "This is particularly useful since often we like to specify parameters in a function and refer to them with intuitive names. \n",
    "\n",
    "Consider the following example (in which we also use some advanced Python constructs, such as *decorators*) \n"
   ]
  },
  {
   "cell_type": "code",
   "execution_count": null,
   "metadata": {
    "autoscroll": false,
    "ein.hycell": false,
    "ein.tags": "worksheet-0",
    "slideshow": {
     "slide_type": "-"
    }
   },
   "outputs": [],
   "source": [
    "from math import log\n",
    "from abc import ABC, abstractmethod\n",
    "\n",
    "\n",
    "class Density(ABC):\n",
    "    \n",
    "    # Destructuring in parameter declarations\n",
    "    def __init__(self, **params):\n",
    "        self.params = params\n",
    "    \n",
    "    @abstractmethod\n",
    "    def log_density(self, some_parameter):\n",
    "        pass       \n",
    "    \n",
    "    def dens(self, x):\n",
    "        \n",
    "        # Destructuring in function invocation - the opposite!\n",
    "        return self.log_density(x, **self.params)\n",
    "    \n",
    "    \n",
    "class Gaussian(Density):    \n",
    "    def log_density(self, x, mu, sigmasq):\n",
    "        return -((x-mu)**2)/(2*sigmasq)       \n",
    "    \n",
    "class Exponential(Density):\n",
    "    def log_density(self, x, theta):\n",
    "        return -theta*x\n",
    "    \n",
    "class Bernoulli(Density):\n",
    "    def log_density(self, x, p):\n",
    "        return x*log(p)+(1-x)*log(1-p)\n",
    "    \n",
    "models = [\n",
    "    Bernoulli(p = .2),\n",
    "    Gaussian(mu = 0, sigmasq = 1),\n",
    "    Exponential(theta = .1)\n",
    "]\n",
    "\n",
    "# This is polymorphism! They are different classes, but they have\n",
    "# the same INTERFACE. This means that at this point in the code,\n",
    "# we don't need to know how the different models were parameterized, \n",
    "# we call the same method on all!\n",
    "\n",
    "for m in models:\n",
    "    print(m.dens(.5))"
   ]
  },
  {
   "cell_type": "markdown",
   "metadata": {
    "ein.tags": "worksheet-0",
    "slideshow": {
     "slide_type": "-"
    }
   },
   "source": [
    "## Implementing K-Nearest Neighbors\n",
    "\n",
    "K-Neareset Neighbors is a simple algorithm you can read about [on Wikiepedia](https://en.wikipedia.org/wiki/K-nearest_neighbors_algorithm). \n",
    "\n",
    "Let's implement two things in Python, to solidify different ways of doing things: \n",
    "\n",
    "1. The K-Nearest Nieghbors algorithm, as a class.\n",
    "2. The K-Nearest Neighbors algorith, as a pure function.\n",
    "\n",
    "This will be simple enough that the usefulness of the difference won't be profound, but I would like you to focus on the difference in implementation itself and how the idea of interfaces can be helpful even when they are in a sense \"useless\"."
   ]
  },
  {
   "cell_type": "code",
   "execution_count": null,
   "metadata": {
    "autoscroll": false,
    "ein.hycell": false,
    "ein.tags": "worksheet-0",
    "slideshow": {
     "slide_type": "-"
    }
   },
   "outputs": [],
   "source": [
    "class KNearestNeighbors():\n",
    "    pass"
   ]
  },
  {
   "cell_type": "code",
   "execution_count": null,
   "metadata": {
    "autoscroll": false,
    "ein.hycell": false,
    "ein.tags": "worksheet-0",
    "slideshow": {
     "slide_type": "-"
    }
   },
   "outputs": [],
   "source": [
    "X = [[1,1,1], [0,0,0], [5,5,5]]\n",
    "y = [1,0,1]"
   ]
  },
  {
   "cell_type": "code",
   "execution_count": null,
   "metadata": {
    "autoscroll": false,
    "ein.hycell": false,
    "ein.tags": "worksheet-0",
    "slideshow": {
     "slide_type": "-"
    }
   },
   "outputs": [],
   "source": [
    "# Let's test our KNearestNeighbors class: \n",
    "\n",
    "model = KNearestNeighbors(2)\n",
    "model.fit(X,y)\n",
    "\n",
    "assert(model.predict([0,0,0]) == 0.5)\n",
    "assert(model.predict([3,3,3]) == 1.0)"
   ]
  },
  {
   "cell_type": "code",
   "execution_count": null,
   "metadata": {
    "autoscroll": false,
    "ein.hycell": false,
    "ein.tags": "worksheet-0",
    "slideshow": {
     "slide_type": "-"
    }
   },
   "outputs": [],
   "source": [
    "def knn(K, X, y, new_y):\n",
    "    pass"
   ]
  },
  {
   "cell_type": "code",
   "execution_count": null,
   "metadata": {
    "autoscroll": false,
    "ein.hycell": false,
    "ein.tags": "worksheet-0",
    "slideshow": {
     "slide_type": "-"
    }
   },
   "outputs": [],
   "source": [
    "# Let's test our KNearestNeighbors functions:\n",
    "\n",
    "assert(knn(2, X, y, [0,0,0]) == 0.5)\n",
    "assert(knn(2, X, y, [3,3,3]) == 1.0)"
   ]
  }
 ],
 "metadata": {
  "kernelspec": {
   "display_name": "Python 3",
   "language": "python",
   "name": "python3"
  },
  "language_info": {
   "codemirror_mode": {
    "name": "ipython",
    "version": 3
   },
   "file_extension": ".py",
   "mimetype": "text/x-python",
   "name": "python",
   "nbconvert_exporter": "python",
   "pygments_lexer": "ipython3",
   "version": "3.7.3"
  },
  "name": "more_python.ipynb"
 },
 "nbformat": 4,
 "nbformat_minor": 2
}
